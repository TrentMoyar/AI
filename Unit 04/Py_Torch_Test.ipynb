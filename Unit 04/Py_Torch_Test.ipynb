{
 "cells": [
  {
   "cell_type": "code",
   "execution_count": 1,
   "metadata": {},
   "outputs": [],
   "source": [
    "import torch"
   ]
  },
  {
   "cell_type": "code",
   "execution_count": 2,
   "metadata": {},
   "outputs": [],
   "source": [
    "zo = [0.0,1.0] # zo = zero-one\n",
    "ins = torch.tensor([[a,b,c] for a in zo for b in zo for c in zo])\n",
    "expected = torch.tensor([[sum(tpl)%2] for tpl in ins])\n",
    "nodeCts = [len(ins[0]), 2, 1]"
   ]
  },
  {
   "cell_type": "code",
   "execution_count": 3,
   "metadata": {},
   "outputs": [
    {
     "name": "stdout",
     "output_type": "stream",
     "text": [
      "[3, 2, 1]\n"
     ]
    }
   ],
   "source": [
    "print(nodeCts)"
   ]
  },
  {
   "cell_type": "code",
   "execution_count": 18,
   "metadata": {},
   "outputs": [
    {
     "name": "stdout",
     "output_type": "stream",
     "text": [
      "tensor([[0.],\n",
      "        [1.],\n",
      "        [1.],\n",
      "        [0.],\n",
      "        [1.],\n",
      "        [0.],\n",
      "        [0.],\n",
      "        [1.]])\n",
      "tensor([[0., 0., 0.],\n",
      "        [0., 0., 1.],\n",
      "        [0., 1., 0.],\n",
      "        [0., 1., 1.],\n",
      "        [1., 0., 0.],\n",
      "        [1., 0., 1.],\n",
      "        [1., 1., 0.],\n",
      "        [1., 1., 1.]])\n"
     ]
    }
   ],
   "source": [
    "print(expected)\n",
    "print(ins)"
   ]
  },
  {
   "cell_type": "code",
   "execution_count": 6,
   "metadata": {},
   "outputs": [],
   "source": [
    "netSpec = [torch.nn.Sigmoid() if i%2 else torch.nn.Linear(nodeCts[i//2], nodeCts[1+i//2],bias=i<1) for i in range(2*len(nodeCts)-2)]\n",
    "mynn = torch.nn.Sequential(*netSpec, torch.nn.Linear(1,1,bias=False))\n",
    "criterion = torch.nn.MSELoss()"
   ]
  },
  {
   "cell_type": "code",
   "execution_count": 7,
   "metadata": {},
   "outputs": [
    {
     "data": {
      "text/plain": [
       "[Linear(in_features=3, out_features=2, bias=True),\n",
       " Sigmoid(),\n",
       " Linear(in_features=2, out_features=1, bias=False),\n",
       " Sigmoid()]"
      ]
     },
     "execution_count": 7,
     "metadata": {},
     "output_type": "execute_result"
    }
   ],
   "source": [
    "netSpec"
   ]
  },
  {
   "cell_type": "code",
   "execution_count": 10,
   "metadata": {},
   "outputs": [
    {
     "data": {
      "text/plain": [
       "Sequential(\n",
       "  (0): Linear(in_features=3, out_features=2, bias=True)\n",
       "  (1): Sigmoid()\n",
       "  (2): Linear(in_features=2, out_features=1, bias=False)\n",
       "  (3): Sigmoid()\n",
       "  (4): Linear(in_features=1, out_features=1, bias=False)\n",
       ")"
      ]
     },
     "execution_count": 10,
     "metadata": {},
     "output_type": "execute_result"
    }
   ],
   "source": [
    "mynn"
   ]
  },
  {
   "cell_type": "code",
   "execution_count": 12,
   "metadata": {},
   "outputs": [
    {
     "name": "stdout",
     "output_type": "stream",
     "text": [
      "epoch:  0  loss:  0.39627617597579956\n",
      "epoch:  1  loss:  0.32992005348205566\n",
      "epoch:  2  loss:  0.2929527163505554\n",
      "epoch:  3  loss:  0.27265259623527527\n",
      "epoch:  4  loss:  0.2617369592189789\n",
      "epoch:  5  loss:  0.2559904158115387\n",
      "epoch:  6  loss:  0.25302061438560486\n",
      "epoch:  7  loss:  0.2515087127685547\n",
      "epoch:  8  loss:  0.2507478594779968\n",
      "epoch:  9  loss:  0.25036826729774475\n",
      "epoch:  500  loss:  0.24999618530273438\n",
      "epoch:  1000  loss:  0.24999457597732544\n",
      "epoch:  1500  loss:  0.24999293684959412\n",
      "epoch:  2000  loss:  0.24999116361141205\n",
      "epoch:  2500  loss:  0.24998918175697327\n",
      "epoch:  3000  loss:  0.24998688697814941\n",
      "epoch:  3500  loss:  0.24998411536216736\n",
      "epoch:  4000  loss:  0.24998073279857635\n",
      "epoch:  4500  loss:  0.24997644126415253\n",
      "epoch:  5000  loss:  0.24997085332870483\n",
      "epoch:  5500  loss:  0.24996349215507507\n",
      "epoch:  6000  loss:  0.2499534636735916\n",
      "epoch:  6500  loss:  0.24993936717510223\n",
      "epoch:  7000  loss:  0.24991877377033234\n",
      "epoch:  7500  loss:  0.2498871088027954\n",
      "epoch:  8000  loss:  0.24983523786067963\n",
      "epoch:  8500  loss:  0.2497425079345703\n",
      "epoch:  9000  loss:  0.24955569207668304\n",
      "epoch:  9500  loss:  0.24911262094974518\n",
      "epoch:  10000  loss:  0.24782216548919678\n",
      "epoch:  10500  loss:  0.24349859356880188\n",
      "epoch:  11000  loss:  0.23238597810268402\n",
      "epoch:  11500  loss:  0.21822194755077362\n",
      "epoch:  12000  loss:  0.20425140857696533\n",
      "epoch:  12500  loss:  0.1657663732767105\n",
      "epoch:  13000  loss:  0.04604602977633476\n",
      "epoch:  13500  loss:  0.020801987498998642\n",
      "epoch:  14000  loss:  0.01793946698307991\n",
      "epoch:  14500  loss:  0.01620713248848915\n",
      "epoch:  15000  loss:  0.01515125297009945\n",
      "epoch:  15500  loss:  0.0143700260668993\n",
      "epoch:  16000  loss:  0.013735922984778881\n",
      "epoch:  16500  loss:  0.013189463876187801\n",
      "epoch:  17000  loss:  0.01270008459687233\n",
      "epoch:  17500  loss:  0.012251393869519234\n",
      "epoch:  18000  loss:  0.011835401877760887\n",
      "epoch:  18500  loss:  0.011448048055171967\n",
      "epoch:  19000  loss:  0.01108834333717823\n",
      "epoch:  19500  loss:  0.010756016708910465\n",
      "epoch:  20000  loss:  0.01045132428407669\n",
      "epoch:  20500  loss:  0.010174010880291462\n",
      "epoch:  21000  loss:  0.009922560304403305\n",
      "epoch:  21500  loss:  0.009694735519587994\n",
      "epoch:  22000  loss:  0.00948831345885992\n",
      "epoch:  22500  loss:  0.009300777688622475\n",
      "epoch:  23000  loss:  0.009129099547863007\n",
      "epoch:  23500  loss:  0.008971624076366425\n",
      "epoch:  24000  loss:  0.008826431818306446\n",
      "epoch:  24500  loss:  0.008691707625985146\n",
      "epoch:  25000  loss:  0.008566228672862053\n",
      "epoch:  25500  loss:  0.008448842912912369\n",
      "epoch:  26000  loss:  0.008339116349816322\n",
      "epoch:  26500  loss:  0.008235638961195946\n",
      "epoch:  27000  loss:  0.008138093166053295\n",
      "epoch:  27500  loss:  0.00804582703858614\n",
      "epoch:  28000  loss:  0.007958412170410156\n",
      "epoch:  28500  loss:  0.007875355891883373\n",
      "epoch:  29000  loss:  0.007796492427587509\n",
      "epoch:  29500  loss:  0.007721391506493092\n",
      "epoch:  30000  loss:  0.007649634033441544\n",
      "epoch:  30500  loss:  0.007581152953207493\n",
      "epoch:  31000  loss:  0.007515427656471729\n",
      "epoch:  31500  loss:  0.007452656514942646\n",
      "epoch:  32000  loss:  0.007392293307930231\n",
      "epoch:  32500  loss:  0.007334419526159763\n",
      "epoch:  33000  loss:  0.007278991863131523\n",
      "epoch:  33500  loss:  0.007225272245705128\n",
      "epoch:  34000  loss:  0.007173912599682808\n",
      "epoch:  34500  loss:  0.007124025374650955\n",
      "epoch:  35000  loss:  0.00707615353167057\n",
      "epoch:  35500  loss:  0.007029810920357704\n",
      "epoch:  36000  loss:  0.0069848643615841866\n",
      "epoch:  36500  loss:  0.006941802799701691\n",
      "epoch:  37000  loss:  0.006899744737893343\n",
      "epoch:  37500  loss:  0.006859207525849342\n",
      "epoch:  38000  loss:  0.00681978790089488\n",
      "epoch:  38500  loss:  0.006781662814319134\n",
      "epoch:  39000  loss:  0.006744709797203541\n",
      "epoch:  39500  loss:  0.006708856672048569\n"
     ]
    }
   ],
   "source": [
    "optimizer = torch.optim.SGD(mynn.parameters(), lr=0.5)\n",
    "for epoch in range(40000):\n",
    "    y_pred = mynn(ins)\n",
    "    loss = criterion(y_pred, expected)\n",
    "    if not epoch%500 or epoch<10:\n",
    "        print('epoch: ', epoch,' loss: ', loss.item())\n",
    "    optimizer.zero_grad()\n",
    "    loss.backward()\n",
    "    optimizer.step()"
   ]
  },
  {
   "cell_type": "code",
   "execution_count": 16,
   "metadata": {},
   "outputs": [
    {
     "name": "stdout",
     "output_type": "stream",
     "text": [
      "0.weight tensor([[ 9.1377,  9.1377, -9.1137],\n",
      "        [ 2.2890,  2.2890, -2.3130]])\n",
      "0.bias tensor([-3.9882, -0.9187])\n",
      "2.weight tensor([[ 11.5127, -14.9068]])\n",
      "4.weight tensor([[2.7677]])\n"
     ]
    }
   ],
   "source": [
    "for k,v in mynn.state_dict().items(): print(k,v)"
   ]
  },
  {
   "cell_type": "markdown",
   "metadata": {},
   "source": [
    "<b> Now onto the application </b>"
   ]
  },
  {
   "cell_type": "code",
   "execution_count": 21,
   "metadata": {},
   "outputs": [
    {
     "name": "stdout",
     "output_type": "stream",
     "text": [
      "epoch:  0  loss:  0.0932006761431694\n",
      "epoch:  1  loss:  0.05013810843229294\n",
      "epoch:  2  loss:  0.031852759420871735\n",
      "epoch:  3  loss:  0.021991664543747902\n",
      "epoch:  4  loss:  0.0159579087048769\n",
      "epoch:  5  loss:  0.011965777724981308\n",
      "epoch:  6  loss:  0.009180670604109764\n",
      "epoch:  7  loss:  0.007162368856370449\n",
      "epoch:  8  loss:  0.005658148787915707\n",
      "epoch:  9  loss:  0.004512850660830736\n",
      "epoch:  50  loss:  1.7213665159943048e-06\n",
      "epoch:  100  loss:  1.4356511812696482e-10\n",
      "epoch:  150  loss:  1.1975641493549259e-14\n",
      "epoch:  200  loss:  9.990044305489208e-19\n",
      "epoch:  250  loss:  8.332224035628068e-23\n",
      "epoch:  300  loss:  6.949620367080166e-27\n",
      "epoch:  350  loss:  5.796032565090989e-31\n",
      "epoch:  400  loss:  4.834197558882618e-35\n",
      "epoch:  450  loss:  4.0324577362520244e-39\n",
      "epoch:  500  loss:  3.363116314379561e-43\n",
      "epoch:  550  loss:  0.0\n",
      "epoch:  600  loss:  0.0\n",
      "epoch:  650  loss:  0.0\n",
      "epoch:  700  loss:  0.0\n",
      "epoch:  750  loss:  0.0\n",
      "epoch:  800  loss:  0.0\n",
      "epoch:  850  loss:  0.0\n",
      "epoch:  900  loss:  0.0\n",
      "epoch:  950  loss:  0.0\n",
      "epoch:  1000  loss:  0.0\n",
      "epoch:  1050  loss:  0.0\n",
      "epoch:  1100  loss:  0.0\n",
      "epoch:  1150  loss:  0.0\n",
      "epoch:  1200  loss:  0.0\n",
      "epoch:  1250  loss:  0.0\n",
      "epoch:  1300  loss:  0.0\n",
      "epoch:  1350  loss:  0.0\n",
      "epoch:  1400  loss:  0.0\n",
      "epoch:  1450  loss:  0.0\n",
      "epoch:  1500  loss:  0.0\n",
      "epoch:  1550  loss:  0.0\n",
      "epoch:  1600  loss:  0.0\n",
      "epoch:  1650  loss:  0.0\n",
      "epoch:  1700  loss:  0.0\n",
      "epoch:  1750  loss:  0.0\n",
      "epoch:  1800  loss:  0.0\n",
      "epoch:  1850  loss:  0.0\n",
      "epoch:  1900  loss:  0.0\n",
      "epoch:  1950  loss:  0.0\n"
     ]
    }
   ],
   "source": [
    "import random\n",
    "\n",
    "ins = torch.tensor([[random.uniform(2,2),random.uniform(2,2)] for i in range(20000)])\n",
    "expected = torch.tensor([[float((tpl[0]**2 + tpl[1]**2) < 1)] for tpl in ins])\n",
    "nodeCts = [len(ins[0]), 8, 1]\n",
    "\n",
    "netSpec = [torch.nn.Sigmoid() if i%2 else torch.nn.Linear(nodeCts[i//2], nodeCts[1+i//2],bias=i<1) for i in range(2*len(nodeCts)-2)]\n",
    "mynn = torch.nn.Sequential(*netSpec, torch.nn.Linear(1,1,bias=False))\n",
    "criterion = torch.nn.MSELoss()\n",
    "\n",
    "optimizer = torch.optim.SGD(mynn.parameters(), lr=0.5)\n",
    "for epoch in range(2000):\n",
    "    y_pred = mynn(ins)\n",
    "    loss = criterion(y_pred, expected)\n",
    "    if not epoch%50 or epoch<10:\n",
    "        print('epoch: ', epoch,' loss: ', loss.item())\n",
    "    optimizer.zero_grad()\n",
    "    loss.backward()\n",
    "    optimizer.step()"
   ]
  },
  {
   "cell_type": "markdown",
   "metadata": {},
   "source": [
    "wow"
   ]
  },
  {
   "cell_type": "code",
   "execution_count": null,
   "metadata": {},
   "outputs": [],
   "source": []
  }
 ],
 "metadata": {
  "kernelspec": {
   "display_name": "Python 3",
   "language": "python",
   "name": "python3"
  },
  "language_info": {
   "codemirror_mode": {
    "name": "ipython",
    "version": 3
   },
   "file_extension": ".py",
   "mimetype": "text/x-python",
   "name": "python",
   "nbconvert_exporter": "python",
   "pygments_lexer": "ipython3",
   "version": "3.7.5"
  }
 },
 "nbformat": 4,
 "nbformat_minor": 4
}
